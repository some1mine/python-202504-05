{
 "cells": [
  {
   "cell_type": "code",
   "execution_count": 5,
   "id": "8c02c7fb-23df-40b3-ad22-b778d48b5046",
   "metadata": {},
   "outputs": [
    {
     "name": "stdout",
     "output_type": "stream",
     "text": [
      "출력을 하고자 할 때 사용한다\n"
     ]
    }
   ],
   "source": [
    "print(\"출력을 하고자 할 때 사용한다\")"
   ]
  },
  {
   "cell_type": "code",
   "execution_count": 7,
   "id": "3e46d480-ea09-496a-8b5a-1857b266253d",
   "metadata": {},
   "outputs": [
    {
     "name": "stdout",
     "output_type": "stream",
     "text": [
      "11\n"
     ]
    }
   ],
   "source": [
    "print(5+6)"
   ]
  },
  {
   "cell_type": "code",
   "execution_count": 21,
   "id": "338fa00f-734a-4fc0-9e34-e94c73190e05",
   "metadata": {},
   "outputs": [],
   "source": [
    "#변수란 컴퓨터의 기억 장소에 이름을 부여한 것을 말한다.\n",
    "#컴퓨터의 기억 공간에 이름을 부여하고 그 공간에 값을 저장하거나 읽어올 수 있다.\n",
    "#기억 공간에 이름을 붙인다.\n",
    "#C언어의 경우 변수를 미리 선언헤야 한다. int a;\n",
    "#int형의 데이터가 저장될 공간을 확보하고 이름을 a라고 해라.\n",
    "#보통의 인터프리터 언어는 변수를 미리 선언하지 않는다.\n",
    "#필요할 때 만들어 쓰면 된다."
   ]
  },
  {
   "cell_type": "code",
   "execution_count": 25,
   "id": "ebdc0480-edf7-48b6-94fd-1a5901cf7744",
   "metadata": {},
   "outputs": [
    {
     "name": "stdout",
     "output_type": "stream",
     "text": [
      "10 20 30\n"
     ]
    }
   ],
   "source": [
    "a = 10          #a라는 변수에 값 10을 저장(할당)하라.\n",
    "b = 20          #b라는 변수에 값 20을 저장(할당)하라.\n",
    "c = a + b       #a의 값 10과 b의 값 20을 읽어와서 더한 뒤에 c에 넣어라\n",
    "                #좌변에는 변수만, 우변에는 아무거나 올 수 있다.\n",
    "print(a, b, c)  #a, b, c 변수의 값을 읽어와서 화면에  출력하라."
   ]
  },
  {
   "cell_type": "code",
   "execution_count": 39,
   "id": "321cd642-11e2-411e-a13c-1c86c4c2358a",
   "metadata": {},
   "outputs": [
    {
     "name": "stdin",
     "output_type": "stream",
     "text": [
      "a =  1\n",
      "b =  2\n"
     ]
    },
    {
     "name": "stdout",
     "output_type": "stream",
     "text": [
      "1 2 12\n",
      "1 2 3\n"
     ]
    }
   ],
   "source": [
    "#값 입력하기 - 입력 함수가 동시에 출력도 가능\n",
    "a = input(\"a = \")\n",
    "b = input(\"b = \")\n",
    "c = a + b #모든 입력은 unicode다 그래서 a도 b도 문자로 인식한다.\n",
    "print(a, b, c) #문자 + 문자 = 문자 덧붙이기\n",
    "d = int(a) + int(b) #int는 문자를 -> 숫자로 바꾼다.\n",
    "print(a, b, d)"
   ]
  },
  {
   "cell_type": "code",
   "execution_count": 49,
   "id": "597e1dbb-147b-4a84-84e5-19af1618bc85",
   "metadata": {},
   "outputs": [
    {
     "name": "stdin",
     "output_type": "stream",
     "text": [
      "가로 :  4\n",
      "세로 :  6\n"
     ]
    },
    {
     "name": "stdout",
     "output_type": "stream",
     "text": [
      "24\n"
     ]
    }
   ],
   "source": [
    "# 사각형의 면적 구하기(가로, 세로 입력 받아서 면적을 구하고자 한다)\n",
    "# 입력데이터 : 가로, 세로\n",
    "# 출력데이터 : 면적\n",
    "#입력\n",
    "width = input(\"가로 : \")\n",
    "height = input(\"세로 : \")\n",
    "#계산\n",
    "surface = int(width) * int(height)\n",
    "#출력\n",
    "print(surface)"
   ]
  },
  {
   "cell_type": "code",
   "execution_count": 65,
   "id": "35100c9a-ea66-42bb-ab2f-78339a614342",
   "metadata": {},
   "outputs": [
    {
     "name": "stdin",
     "output_type": "stream",
     "text": [
      "시간 당 급여액을 입력해주세요 : 12000\n",
      "근무 시간을 입력해주세요 : 30\n"
     ]
    },
    {
     "name": "stdout",
     "output_type": "stream",
     "text": [
      "근무 시간은 30시간이고 시간당 급여액은 12000원이며 주급은 360000원입니다\n"
     ]
    }
   ],
   "source": [
    "#주급 계산하기 시간당 급여액과 근무 시간을 입력받아 주급을 계산하기\n",
    "#입력\n",
    "pay_per_hour = input(\"시간 당 급여액을 입력해주세요 :\")\n",
    "work_hour = input(\"근무 시간을 입력해주세요 :\")\n",
    "#계산\n",
    "pay_per_week = int(pay_per_hour) * int(work_hour)\n",
    "#출력\n",
    "print(f\"근무 시간은 {work_hour}시간이고 시간당 급여액은 {pay_per_hour}원이며 주급은 {pay_per_week}원입니다\")"
   ]
  }
 ],
 "metadata": {
  "kernelspec": {
   "display_name": "Python [conda env:base] *",
   "language": "python",
   "name": "conda-base-py"
  },
  "language_info": {
   "codemirror_mode": {
    "name": "ipython",
    "version": 3
   },
   "file_extension": ".py",
   "mimetype": "text/x-python",
   "name": "python",
   "nbconvert_exporter": "python",
   "pygments_lexer": "ipython3",
   "version": "3.12.7"
  }
 },
 "nbformat": 4,
 "nbformat_minor": 5
}
